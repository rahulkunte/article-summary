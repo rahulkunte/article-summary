{
 "cells": [
  {
   "cell_type": "code",
   "execution_count": 1,
   "metadata": {},
   "outputs": [],
   "source": [
    "from transformers import pipeline"
   ]
  },
  {
   "cell_type": "code",
   "execution_count": 2,
   "metadata": {},
   "outputs": [],
   "source": [
    "from bs4 import BeautifulSoup"
   ]
  },
  {
   "cell_type": "code",
   "execution_count": 3,
   "metadata": {},
   "outputs": [],
   "source": [
    "import requests"
   ]
  },
  {
   "cell_type": "code",
   "execution_count": 4,
   "metadata": {},
   "outputs": [],
   "source": [
    "summarizer = pipeline('summarization')"
   ]
  },
  {
   "cell_type": "code",
   "execution_count": 7,
   "metadata": {},
   "outputs": [],
   "source": [
    "def summary(url, max_words, min_words):\n",
    "    r = requests.get(url)\n",
    "    soup = BeautifulSoup(r.text,'html.parser')\n",
    "    results = soup.find_all(['h1','p'])\n",
    "    text = [result.text for result in results]\n",
    "    \n",
    "    \n",
    "    article = ' '.join(text)\n",
    "    max_chunk = 500\n",
    "    \n",
    "    article = article.replace('.', '.<eos>')\n",
    "    article = article.replace('?', '?<eos>')\n",
    "    article = article.replace('!', '!<eos>')\n",
    "    sentences = article.split('<eos')\n",
    "    \n",
    "    current_chunk = 0\n",
    "    chunks = []\n",
    "\n",
    "    for sentence in sentences:\n",
    "        if len(chunks) == current_chunk+1:\n",
    "            if len(chunks[current_chunk]) + len(sentence.split(' ')) <= max_chunk:\n",
    "                chunks[current_chunk].extend(sentence.split(' '))\n",
    "            else:\n",
    "                current_chunk += 1\n",
    "                chunks.append(sentence.split(' '))\n",
    "        else:\n",
    "            chunks.append(sentence.split(' '))\n",
    "\n",
    "    for chunk_id in range(len(chunks)):\n",
    "        chunks[chunk_id] = ' '.join(chunks[chunk_id])\n",
    "\n",
    "        \n",
    "    res = summarizer(chunks, max_length=max_words, min_length=min_words, do_sample=False)\n",
    "    final = ' '.join([summ['summary_text'] for summ in res])\n",
    "    \n",
    "    return final"
   ]
  },
  {
   "cell_type": "code",
   "execution_count": 10,
   "metadata": {},
   "outputs": [],
   "source": [
    "url = \"https://apnews.com/article/russia-ukraine-russia-london-europe-moscow-b158645ccf222e05aede08e26b9f62c1\""
   ]
  },
  {
   "cell_type": "code",
   "execution_count": 11,
   "metadata": {},
   "outputs": [
    {
     "data": {
      "text/plain": [
       "' Putin: Russia ready to discuss confidence-building measures . Putin: U.S. and NATO rejected Moscow’s demand to keep Ukraine and other ex-Soviet nations out of NATO, halt weapons deployments near Russian borders . Putin said Russia is ready to engage in talks on limiting the deployment of intermediate range missiles in Europe . The announcement buoyed world financial markets and the long-suffering ruble after weeks of escalation .  Russian Defense Ministry did not indicate where the withdrawing troops had been deployed or how many were leaving . It released images of tanks and armored vehicles rolling onto a train, and a tank commander saluting his forces . NATO Secretary-General Jens Stoltenberg said there are “some grounds for cautious optimism” for diplomatic efforts . Ukraine’s leaders expressed skepticism .  U.S. defense official: Russian ground units have been moving out of larger assembly areas for several days . Russian lawmakers urge Putin to recognize rebel-held areas in eastern Ukraine as independent states . Moscow wants guarantees that NATO will not allow Ukraine and other former Soviet countries to join as members .  “We are really on the border, we really have relatives here and there, everyone has somebody there (on the Ukrainian side),” she said . “No one wants war. >”'"
      ]
     },
     "execution_count": 11,
     "metadata": {},
     "output_type": "execute_result"
    }
   ],
   "source": [
    "summary(url, 100, 20)"
   ]
  },
  {
   "cell_type": "code",
   "execution_count": null,
   "metadata": {},
   "outputs": [],
   "source": []
  }
 ],
 "metadata": {
  "kernelspec": {
   "display_name": "Python 3 (ipykernel)",
   "language": "python",
   "name": "python3"
  },
  "language_info": {
   "codemirror_mode": {
    "name": "ipython",
    "version": 3
   },
   "file_extension": ".py",
   "mimetype": "text/x-python",
   "name": "python",
   "nbconvert_exporter": "python",
   "pygments_lexer": "ipython3",
   "version": "3.9.7"
  }
 },
 "nbformat": 4,
 "nbformat_minor": 4
}
